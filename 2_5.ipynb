{
 "cells": [
  {
   "cell_type": "code",
   "execution_count": 61,
   "id": "3e75034c-2d8b-456b-80f6-78f1003dec27",
   "metadata": {},
   "outputs": [],
   "source": [
    "import pandas as pd \n",
    "import numpy as np \n",
    "from sklearn.preprocessing import LabelEncoder\n",
    "from sklearn.model_selection import train_test_split\n",
    "\n",
    "from sklearn.ensemble import RandomForestClassifier\n",
    "from sklearn.tree import DecisionTreeClassifier\n",
    "from sklearn.naive_bayes import MultinomialNB\n",
    "from sklearn.neighbors import KNeighborsClassifier\n",
    "\n",
    "from sklearn.metrics import classification_report, accuracy_score, f1_score , confusion_matrix\n",
    "import matplotlib.pyplot as plt \n",
    "import seaborn as sns"
   ]
  },
  {
   "cell_type": "code",
   "execution_count": 62,
   "id": "809b7c67-7072-4abd-b2f2-cae150b9f20f",
   "metadata": {},
   "outputs": [
    {
     "data": {
      "text/plain": [
       "Customer                0\n",
       "Agent                   0\n",
       "SalesAgentEmailID       0\n",
       "ContactEmailID          0\n",
       "Stage                   0\n",
       "Product                 0\n",
       "Close_Value          1208\n",
       "Created Date            0\n",
       "Close Date              0\n",
       "dtype: int64"
      ]
     },
     "execution_count": 62,
     "metadata": {},
     "output_type": "execute_result"
    }
   ],
   "source": [
    "df = pd.read_excel('./dataset.xls')\n",
    "df.drop(['Unnamed: 0'], axis=1, inplace=True)\n",
    "df.isna().sum()"
   ]
  },
  {
   "cell_type": "code",
   "execution_count": 63,
   "id": "fd371cb3-936e-4b62-9926-cdc29e1d0a46",
   "metadata": {},
   "outputs": [
    {
     "data": {
      "text/plain": [
       "Customer             0\n",
       "Agent                0\n",
       "SalesAgentEmailID    0\n",
       "ContactEmailID       0\n",
       "Stage                0\n",
       "Product              0\n",
       "Close_Value          0\n",
       "Created Date         0\n",
       "Close Date           0\n",
       "dtype: int64"
      ]
     },
     "execution_count": 63,
     "metadata": {},
     "output_type": "execute_result"
    }
   ],
   "source": [
    "products = df.Product.unique()\n",
    "for product in products:\n",
    "    mean = df[df.Product == product].Close_Value.mean()\n",
    "    df.loc[df[(df.Product == product) & (df.Close_Value.isna())].index, \"Close_Value\"] = mean\n",
    "    \n",
    "df.isna().sum()"
   ]
  },
  {
   "cell_type": "code",
   "execution_count": 64,
   "id": "69feeec9-95e9-4f37-9be0-b232c555320a",
   "metadata": {},
   "outputs": [
    {
     "data": {
      "text/plain": [
       "Won            3738\n",
       "In Progress    2089\n",
       "Lost           1973\n",
       "Name: Stage, dtype: int64"
      ]
     },
     "execution_count": 64,
     "metadata": {},
     "output_type": "execute_result"
    }
   ],
   "source": [
    "df.Stage.value_counts()"
   ]
  },
  {
   "cell_type": "code",
   "execution_count": 65,
   "id": "37f5a5eb-7f7d-4e53-a1d3-f5947e1dc109",
   "metadata": {},
   "outputs": [
    {
     "name": "stderr",
     "output_type": "stream",
     "text": [
      "/tmp/ipykernel_52292/1938966282.py:5: DeprecationWarning: parsing timezone aware datetimes is deprecated; this will raise an error in the future\n",
      "  new_df[\"Created Date\"] = new_df[\"Created Date\"].apply(lambda x: (x - np.datetime64('1970-01-01T00:00:00Z')) / np.timedelta64(1, 's'))\n",
      "/tmp/ipykernel_52292/1938966282.py:6: DeprecationWarning: parsing timezone aware datetimes is deprecated; this will raise an error in the future\n",
      "  new_df[\"Close Date\"] = new_df[\"Close Date\"].apply(lambda x: (x - np.datetime64('1970-01-01T00:00:00Z')) / np.timedelta64(1, 's'))\n"
     ]
    },
    {
     "data": {
      "text/plain": [
       "Won     4213\n",
       "Lost    3587\n",
       "Name: Stage, dtype: int64"
      ]
     },
     "execution_count": 65,
     "metadata": {},
     "output_type": "execute_result"
    }
   ],
   "source": [
    "new_df = df.copy()\n",
    "\n",
    "one_hot_products = pd.get_dummies(new_df.Product)\n",
    "\n",
    "new_df[\"Created Date\"] = new_df[\"Created Date\"].apply(lambda x: (x - np.datetime64('1970-01-01T00:00:00Z')) / np.timedelta64(1, 's'))\n",
    "new_df[\"Close Date\"] = new_df[\"Close Date\"].apply(lambda x: (x - np.datetime64('1970-01-01T00:00:00Z')) / np.timedelta64(1, 's'))\n",
    "new_df = new_df.join(one_hot_products)\n",
    "new_df.drop(\"Product\", axis=1, inplace=True)\n",
    "new_df.drop([\"Customer\", \"SalesAgentEmailID\", \"ContactEmailID\", \"Agent\"], axis=1, inplace=True)\n",
    "X_train, X_test, y_train, y_test = train_test_split(new_df.drop(\"Stage\", axis=1), new_df.Stage)\n",
    "model = RandomForestClassifier()\n",
    "model.fit(new_df[new_df['Stage']!='In Progress'].drop(\"Stage\", axis=1),new_df[new_df['Stage']!='In Progress'].Stage)\n",
    "model.predict(new_df[new_df.Stage == \"In Progress\"].drop(\"Stage\", axis=1))\n",
    "df.loc[df[df.Stage == \"In Progress\"].index, \"Stage\"] = model.predict(new_df[new_df.Stage == \"In Progress\"].drop(\"Stage\", axis=1))\n",
    "df.Stage.value_counts()"
   ]
  },
  {
   "cell_type": "code",
   "execution_count": 66,
   "id": "45de418c-79e6-4293-b27d-98789f786709",
   "metadata": {},
   "outputs": [
    {
     "data": {
      "text/html": [
       "<div>\n",
       "<style scoped>\n",
       "    .dataframe tbody tr th:only-of-type {\n",
       "        vertical-align: middle;\n",
       "    }\n",
       "\n",
       "    .dataframe tbody tr th {\n",
       "        vertical-align: top;\n",
       "    }\n",
       "\n",
       "    .dataframe thead th {\n",
       "        text-align: right;\n",
       "    }\n",
       "</style>\n",
       "<table border=\"1\" class=\"dataframe\">\n",
       "  <thead>\n",
       "    <tr style=\"text-align: right;\">\n",
       "      <th></th>\n",
       "      <th>Customer</th>\n",
       "      <th>Agent</th>\n",
       "      <th>SalesAgentEmailID</th>\n",
       "      <th>ContactEmailID</th>\n",
       "      <th>Stage</th>\n",
       "      <th>Product</th>\n",
       "      <th>Close_Value</th>\n",
       "      <th>Created Date</th>\n",
       "      <th>Close Date</th>\n",
       "    </tr>\n",
       "  </thead>\n",
       "  <tbody>\n",
       "    <tr>\n",
       "      <th>0</th>\n",
       "      <td>Konex</td>\n",
       "      <td>Corliss Cosme</td>\n",
       "      <td>corliss@piedpiper.com</td>\n",
       "      <td>delila@konex.com</td>\n",
       "      <td>Won</td>\n",
       "      <td>GTX Plus Basic</td>\n",
       "      <td>1255.000000</td>\n",
       "      <td>2016-01-04</td>\n",
       "      <td>2016-05-24</td>\n",
       "    </tr>\n",
       "    <tr>\n",
       "      <th>1</th>\n",
       "      <td>Finjob</td>\n",
       "      <td>Rosalina Dieter</td>\n",
       "      <td>rosalina@piedpiper.com</td>\n",
       "      <td>belinda@finjob.com</td>\n",
       "      <td>Won</td>\n",
       "      <td>MG Special</td>\n",
       "      <td>45.000000</td>\n",
       "      <td>2016-01-04</td>\n",
       "      <td>2016-11-02</td>\n",
       "    </tr>\n",
       "    <tr>\n",
       "      <th>2</th>\n",
       "      <td>Kinnamplus</td>\n",
       "      <td>Donn Cantrell</td>\n",
       "      <td>donn@piedpiper.com</td>\n",
       "      <td>monte@kinnamplus.com</td>\n",
       "      <td>Lost</td>\n",
       "      <td>MG Special</td>\n",
       "      <td>720.801303</td>\n",
       "      <td>2016-01-06</td>\n",
       "      <td>2016-12-07</td>\n",
       "    </tr>\n",
       "    <tr>\n",
       "      <th>3</th>\n",
       "      <td>Genco Pura Olive Oil Company</td>\n",
       "      <td>James Ascencio</td>\n",
       "      <td>james@piedpiper.com</td>\n",
       "      <td>karole@gencopuraoliveoilcompany.com</td>\n",
       "      <td>Lost</td>\n",
       "      <td>MG Advanced</td>\n",
       "      <td>1054.000000</td>\n",
       "      <td>2016-01-06</td>\n",
       "      <td>2016-09-11</td>\n",
       "    </tr>\n",
       "    <tr>\n",
       "      <th>4</th>\n",
       "      <td>Stanredtax</td>\n",
       "      <td>Lajuana Vencill</td>\n",
       "      <td>lajuana@piedpiper.com</td>\n",
       "      <td>candice@stanredtax.com</td>\n",
       "      <td>Won</td>\n",
       "      <td>MG Advanced</td>\n",
       "      <td>3180.000000</td>\n",
       "      <td>2016-01-07</td>\n",
       "      <td>2016-01-31</td>\n",
       "    </tr>\n",
       "    <tr>\n",
       "      <th>...</th>\n",
       "      <td>...</td>\n",
       "      <td>...</td>\n",
       "      <td>...</td>\n",
       "      <td>...</td>\n",
       "      <td>...</td>\n",
       "      <td>...</td>\n",
       "      <td>...</td>\n",
       "      <td>...</td>\n",
       "      <td>...</td>\n",
       "    </tr>\n",
       "    <tr>\n",
       "      <th>7795</th>\n",
       "      <td>Vehement Capital Partners</td>\n",
       "      <td>Jonathan Berthelot</td>\n",
       "      <td>jonathan@piedpiper.com</td>\n",
       "      <td>lavonia@vehementcapitalpartners.com</td>\n",
       "      <td>Won</td>\n",
       "      <td>GTX Basic</td>\n",
       "      <td>590.000000</td>\n",
       "      <td>2018-12-30</td>\n",
       "      <td>2019-07-22</td>\n",
       "    </tr>\n",
       "    <tr>\n",
       "      <th>7796</th>\n",
       "      <td>Hottechi</td>\n",
       "      <td>Marty Freudenburg</td>\n",
       "      <td>marty@piedpiper.com</td>\n",
       "      <td>juliette@hottechi.com</td>\n",
       "      <td>Won</td>\n",
       "      <td>MG Advanced</td>\n",
       "      <td>3284.000000</td>\n",
       "      <td>2018-12-30</td>\n",
       "      <td>2019-05-26</td>\n",
       "    </tr>\n",
       "    <tr>\n",
       "      <th>7797</th>\n",
       "      <td>Umbrella Corporation</td>\n",
       "      <td>Anna Snelling</td>\n",
       "      <td>anna@piedpiper.com</td>\n",
       "      <td>orpha@umbrellacorporation.com</td>\n",
       "      <td>Lost</td>\n",
       "      <td>GTX Plus Pro</td>\n",
       "      <td>300.000000</td>\n",
       "      <td>2018-12-31</td>\n",
       "      <td>2019-04-15</td>\n",
       "    </tr>\n",
       "    <tr>\n",
       "      <th>7798</th>\n",
       "      <td>Rundofase</td>\n",
       "      <td>Gladys Colclough</td>\n",
       "      <td>gladys@piedpiper.com</td>\n",
       "      <td>crista@rundofase.com</td>\n",
       "      <td>Lost</td>\n",
       "      <td>MG Special</td>\n",
       "      <td>3284.000000</td>\n",
       "      <td>2018-12-31</td>\n",
       "      <td>2019-05-16</td>\n",
       "    </tr>\n",
       "    <tr>\n",
       "      <th>7799</th>\n",
       "      <td>Y-corporation</td>\n",
       "      <td>Jonathan Berthelot</td>\n",
       "      <td>jonathan@piedpiper.com</td>\n",
       "      <td>rosanne@y-corporation.com</td>\n",
       "      <td>Lost</td>\n",
       "      <td>MG Special</td>\n",
       "      <td>1014.000000</td>\n",
       "      <td>2018-12-31</td>\n",
       "      <td>2019-08-01</td>\n",
       "    </tr>\n",
       "  </tbody>\n",
       "</table>\n",
       "<p>7800 rows × 9 columns</p>\n",
       "</div>"
      ],
      "text/plain": [
       "                          Customer               Agent  \\\n",
       "0                            Konex       Corliss Cosme   \n",
       "1                           Finjob     Rosalina Dieter   \n",
       "2                       Kinnamplus       Donn Cantrell   \n",
       "3     Genco Pura Olive Oil Company      James Ascencio   \n",
       "4                       Stanredtax     Lajuana Vencill   \n",
       "...                            ...                 ...   \n",
       "7795     Vehement Capital Partners  Jonathan Berthelot   \n",
       "7796                      Hottechi   Marty Freudenburg   \n",
       "7797          Umbrella Corporation       Anna Snelling   \n",
       "7798                     Rundofase    Gladys Colclough   \n",
       "7799                 Y-corporation  Jonathan Berthelot   \n",
       "\n",
       "           SalesAgentEmailID                       ContactEmailID Stage  \\\n",
       "0      corliss@piedpiper.com                     delila@konex.com   Won   \n",
       "1     rosalina@piedpiper.com                   belinda@finjob.com   Won   \n",
       "2         donn@piedpiper.com                 monte@kinnamplus.com  Lost   \n",
       "3        james@piedpiper.com  karole@gencopuraoliveoilcompany.com  Lost   \n",
       "4      lajuana@piedpiper.com               candice@stanredtax.com   Won   \n",
       "...                      ...                                  ...   ...   \n",
       "7795  jonathan@piedpiper.com  lavonia@vehementcapitalpartners.com   Won   \n",
       "7796     marty@piedpiper.com                juliette@hottechi.com   Won   \n",
       "7797      anna@piedpiper.com        orpha@umbrellacorporation.com  Lost   \n",
       "7798    gladys@piedpiper.com                 crista@rundofase.com  Lost   \n",
       "7799  jonathan@piedpiper.com            rosanne@y-corporation.com  Lost   \n",
       "\n",
       "             Product  Close_Value Created Date Close Date  \n",
       "0     GTX Plus Basic  1255.000000   2016-01-04 2016-05-24  \n",
       "1         MG Special    45.000000   2016-01-04 2016-11-02  \n",
       "2         MG Special   720.801303   2016-01-06 2016-12-07  \n",
       "3        MG Advanced  1054.000000   2016-01-06 2016-09-11  \n",
       "4        MG Advanced  3180.000000   2016-01-07 2016-01-31  \n",
       "...              ...          ...          ...        ...  \n",
       "7795       GTX Basic   590.000000   2018-12-30 2019-07-22  \n",
       "7796     MG Advanced  3284.000000   2018-12-30 2019-05-26  \n",
       "7797    GTX Plus Pro   300.000000   2018-12-31 2019-04-15  \n",
       "7798      MG Special  3284.000000   2018-12-31 2019-05-16  \n",
       "7799      MG Special  1014.000000   2018-12-31 2019-08-01  \n",
       "\n",
       "[7800 rows x 9 columns]"
      ]
     },
     "execution_count": 66,
     "metadata": {},
     "output_type": "execute_result"
    }
   ],
   "source": [
    "df"
   ]
  },
  {
   "cell_type": "markdown",
   "id": "b7a3d704-204d-4c79-b50e-d473fb5e04d0",
   "metadata": {},
   "source": [
    "## Random Forest"
   ]
  },
  {
   "cell_type": "code",
   "execution_count": 67,
   "id": "66ae6b05-ca2a-49dd-b596-89d44781e1de",
   "metadata": {},
   "outputs": [
    {
     "name": "stderr",
     "output_type": "stream",
     "text": [
      "/tmp/ipykernel_52292/1423716236.py:2: DeprecationWarning: parsing timezone aware datetimes is deprecated; this will raise an error in the future\n",
      "  df[\"Created Date\"] = df[\"Created Date\"].apply(lambda x: (x - np.datetime64('1970-01-01T00:00:00Z')) / np.timedelta64(1, 's'))\n",
      "/tmp/ipykernel_52292/1423716236.py:3: DeprecationWarning: parsing timezone aware datetimes is deprecated; this will raise an error in the future\n",
      "  df[\"Close Date\"] = df[\"Close Date\"].apply(lambda x: (x - np.datetime64('1970-01-01T00:00:00Z')) / np.timedelta64(1, 's'))\n"
     ]
    },
    {
     "data": {
      "text/html": [
       "<div>\n",
       "<style scoped>\n",
       "    .dataframe tbody tr th:only-of-type {\n",
       "        vertical-align: middle;\n",
       "    }\n",
       "\n",
       "    .dataframe tbody tr th {\n",
       "        vertical-align: top;\n",
       "    }\n",
       "\n",
       "    .dataframe thead th {\n",
       "        text-align: right;\n",
       "    }\n",
       "</style>\n",
       "<table border=\"1\" class=\"dataframe\">\n",
       "  <thead>\n",
       "    <tr style=\"text-align: right;\">\n",
       "      <th></th>\n",
       "      <th>Customer</th>\n",
       "      <th>Agent</th>\n",
       "      <th>SalesAgentEmailID</th>\n",
       "      <th>ContactEmailID</th>\n",
       "      <th>Stage</th>\n",
       "      <th>Product</th>\n",
       "      <th>Close_Value</th>\n",
       "      <th>Created Date</th>\n",
       "      <th>Close Date</th>\n",
       "    </tr>\n",
       "  </thead>\n",
       "  <tbody>\n",
       "    <tr>\n",
       "      <th>0</th>\n",
       "      <td>Konex</td>\n",
       "      <td>Corliss Cosme</td>\n",
       "      <td>corliss@piedpiper.com</td>\n",
       "      <td>delila@konex.com</td>\n",
       "      <td>Won</td>\n",
       "      <td>GTX Plus Basic</td>\n",
       "      <td>1255.000000</td>\n",
       "      <td>1.451866e+09</td>\n",
       "      <td>1.464048e+09</td>\n",
       "    </tr>\n",
       "    <tr>\n",
       "      <th>1</th>\n",
       "      <td>Finjob</td>\n",
       "      <td>Rosalina Dieter</td>\n",
       "      <td>rosalina@piedpiper.com</td>\n",
       "      <td>belinda@finjob.com</td>\n",
       "      <td>Won</td>\n",
       "      <td>MG Special</td>\n",
       "      <td>45.000000</td>\n",
       "      <td>1.451866e+09</td>\n",
       "      <td>1.478045e+09</td>\n",
       "    </tr>\n",
       "    <tr>\n",
       "      <th>2</th>\n",
       "      <td>Kinnamplus</td>\n",
       "      <td>Donn Cantrell</td>\n",
       "      <td>donn@piedpiper.com</td>\n",
       "      <td>monte@kinnamplus.com</td>\n",
       "      <td>Lost</td>\n",
       "      <td>MG Special</td>\n",
       "      <td>720.801303</td>\n",
       "      <td>1.452038e+09</td>\n",
       "      <td>1.481069e+09</td>\n",
       "    </tr>\n",
       "    <tr>\n",
       "      <th>3</th>\n",
       "      <td>Genco Pura Olive Oil Company</td>\n",
       "      <td>James Ascencio</td>\n",
       "      <td>james@piedpiper.com</td>\n",
       "      <td>karole@gencopuraoliveoilcompany.com</td>\n",
       "      <td>Lost</td>\n",
       "      <td>MG Advanced</td>\n",
       "      <td>1054.000000</td>\n",
       "      <td>1.452038e+09</td>\n",
       "      <td>1.473552e+09</td>\n",
       "    </tr>\n",
       "    <tr>\n",
       "      <th>4</th>\n",
       "      <td>Stanredtax</td>\n",
       "      <td>Lajuana Vencill</td>\n",
       "      <td>lajuana@piedpiper.com</td>\n",
       "      <td>candice@stanredtax.com</td>\n",
       "      <td>Won</td>\n",
       "      <td>MG Advanced</td>\n",
       "      <td>3180.000000</td>\n",
       "      <td>1.452125e+09</td>\n",
       "      <td>1.454198e+09</td>\n",
       "    </tr>\n",
       "    <tr>\n",
       "      <th>...</th>\n",
       "      <td>...</td>\n",
       "      <td>...</td>\n",
       "      <td>...</td>\n",
       "      <td>...</td>\n",
       "      <td>...</td>\n",
       "      <td>...</td>\n",
       "      <td>...</td>\n",
       "      <td>...</td>\n",
       "      <td>...</td>\n",
       "    </tr>\n",
       "    <tr>\n",
       "      <th>7795</th>\n",
       "      <td>Vehement Capital Partners</td>\n",
       "      <td>Jonathan Berthelot</td>\n",
       "      <td>jonathan@piedpiper.com</td>\n",
       "      <td>lavonia@vehementcapitalpartners.com</td>\n",
       "      <td>Won</td>\n",
       "      <td>GTX Basic</td>\n",
       "      <td>590.000000</td>\n",
       "      <td>1.546128e+09</td>\n",
       "      <td>1.563754e+09</td>\n",
       "    </tr>\n",
       "    <tr>\n",
       "      <th>7796</th>\n",
       "      <td>Hottechi</td>\n",
       "      <td>Marty Freudenburg</td>\n",
       "      <td>marty@piedpiper.com</td>\n",
       "      <td>juliette@hottechi.com</td>\n",
       "      <td>Won</td>\n",
       "      <td>MG Advanced</td>\n",
       "      <td>3284.000000</td>\n",
       "      <td>1.546128e+09</td>\n",
       "      <td>1.558829e+09</td>\n",
       "    </tr>\n",
       "    <tr>\n",
       "      <th>7797</th>\n",
       "      <td>Umbrella Corporation</td>\n",
       "      <td>Anna Snelling</td>\n",
       "      <td>anna@piedpiper.com</td>\n",
       "      <td>orpha@umbrellacorporation.com</td>\n",
       "      <td>Lost</td>\n",
       "      <td>GTX Plus Pro</td>\n",
       "      <td>300.000000</td>\n",
       "      <td>1.546214e+09</td>\n",
       "      <td>1.555286e+09</td>\n",
       "    </tr>\n",
       "    <tr>\n",
       "      <th>7798</th>\n",
       "      <td>Rundofase</td>\n",
       "      <td>Gladys Colclough</td>\n",
       "      <td>gladys@piedpiper.com</td>\n",
       "      <td>crista@rundofase.com</td>\n",
       "      <td>Lost</td>\n",
       "      <td>MG Special</td>\n",
       "      <td>3284.000000</td>\n",
       "      <td>1.546214e+09</td>\n",
       "      <td>1.557965e+09</td>\n",
       "    </tr>\n",
       "    <tr>\n",
       "      <th>7799</th>\n",
       "      <td>Y-corporation</td>\n",
       "      <td>Jonathan Berthelot</td>\n",
       "      <td>jonathan@piedpiper.com</td>\n",
       "      <td>rosanne@y-corporation.com</td>\n",
       "      <td>Lost</td>\n",
       "      <td>MG Special</td>\n",
       "      <td>1014.000000</td>\n",
       "      <td>1.546214e+09</td>\n",
       "      <td>1.564618e+09</td>\n",
       "    </tr>\n",
       "  </tbody>\n",
       "</table>\n",
       "<p>7800 rows × 9 columns</p>\n",
       "</div>"
      ],
      "text/plain": [
       "                          Customer               Agent  \\\n",
       "0                            Konex       Corliss Cosme   \n",
       "1                           Finjob     Rosalina Dieter   \n",
       "2                       Kinnamplus       Donn Cantrell   \n",
       "3     Genco Pura Olive Oil Company      James Ascencio   \n",
       "4                       Stanredtax     Lajuana Vencill   \n",
       "...                            ...                 ...   \n",
       "7795     Vehement Capital Partners  Jonathan Berthelot   \n",
       "7796                      Hottechi   Marty Freudenburg   \n",
       "7797          Umbrella Corporation       Anna Snelling   \n",
       "7798                     Rundofase    Gladys Colclough   \n",
       "7799                 Y-corporation  Jonathan Berthelot   \n",
       "\n",
       "           SalesAgentEmailID                       ContactEmailID Stage  \\\n",
       "0      corliss@piedpiper.com                     delila@konex.com   Won   \n",
       "1     rosalina@piedpiper.com                   belinda@finjob.com   Won   \n",
       "2         donn@piedpiper.com                 monte@kinnamplus.com  Lost   \n",
       "3        james@piedpiper.com  karole@gencopuraoliveoilcompany.com  Lost   \n",
       "4      lajuana@piedpiper.com               candice@stanredtax.com   Won   \n",
       "...                      ...                                  ...   ...   \n",
       "7795  jonathan@piedpiper.com  lavonia@vehementcapitalpartners.com   Won   \n",
       "7796     marty@piedpiper.com                juliette@hottechi.com   Won   \n",
       "7797      anna@piedpiper.com        orpha@umbrellacorporation.com  Lost   \n",
       "7798    gladys@piedpiper.com                 crista@rundofase.com  Lost   \n",
       "7799  jonathan@piedpiper.com            rosanne@y-corporation.com  Lost   \n",
       "\n",
       "             Product  Close_Value  Created Date    Close Date  \n",
       "0     GTX Plus Basic  1255.000000  1.451866e+09  1.464048e+09  \n",
       "1         MG Special    45.000000  1.451866e+09  1.478045e+09  \n",
       "2         MG Special   720.801303  1.452038e+09  1.481069e+09  \n",
       "3        MG Advanced  1054.000000  1.452038e+09  1.473552e+09  \n",
       "4        MG Advanced  3180.000000  1.452125e+09  1.454198e+09  \n",
       "...              ...          ...           ...           ...  \n",
       "7795       GTX Basic   590.000000  1.546128e+09  1.563754e+09  \n",
       "7796     MG Advanced  3284.000000  1.546128e+09  1.558829e+09  \n",
       "7797    GTX Plus Pro   300.000000  1.546214e+09  1.555286e+09  \n",
       "7798      MG Special  3284.000000  1.546214e+09  1.557965e+09  \n",
       "7799      MG Special  1014.000000  1.546214e+09  1.564618e+09  \n",
       "\n",
       "[7800 rows x 9 columns]"
      ]
     },
     "execution_count": 67,
     "metadata": {},
     "output_type": "execute_result"
    }
   ],
   "source": [
    "one_hot_products = pd.get_dummies(df.Product)\n",
    "df[\"Created Date\"] = df[\"Created Date\"].apply(lambda x: (x - np.datetime64('1970-01-01T00:00:00Z')) / np.timedelta64(1, 's'))\n",
    "df[\"Close Date\"] = df[\"Close Date\"].apply(lambda x: (x - np.datetime64('1970-01-01T00:00:00Z')) / np.timedelta64(1, 's'))\n",
    "df\n"
   ]
  },
  {
   "cell_type": "code",
   "execution_count": 68,
   "id": "7977f585-9d7d-4e94-b2c6-80abddca60bd",
   "metadata": {},
   "outputs": [],
   "source": [
    "df = df.join(one_hot_products)\n",
    "df.drop(\"Product\", axis=1, inplace=True)\n",
    "df.drop([\"Customer\", \"SalesAgentEmailID\", \"ContactEmailID\", \"Agent\"], axis=1, inplace=True)\n",
    "\n",
    "X_train, X_test, y_train, y_test = train_test_split(df.drop(\"Stage\", axis=1), df.Stage)\n",
    "\n"
   ]
  },
  {
   "cell_type": "code",
   "execution_count": 78,
   "id": "4842cb8f-b593-48c9-814b-eb4d79ca263e",
   "metadata": {},
   "outputs": [
    {
     "name": "stdout",
     "output_type": "stream",
     "text": [
      "              precision    recall  f1-score   support\n",
      "\n",
      "        Lost       0.94      0.86      0.90       909\n",
      "         Won       0.89      0.95      0.92      1041\n",
      "\n",
      "    accuracy                           0.91      1950\n",
      "   macro avg       0.91      0.90      0.91      1950\n",
      "weighted avg       0.91      0.91      0.91      1950\n",
      "\n"
     ]
    }
   ],
   "source": [
    "clf = RandomForestClassifier(class_weight='balanced')\n",
    "clf.fit(X_train, y_train)\n",
    "\n",
    "y_pred = clf.predict(X_test)\n",
    "print(classification_report(y_test, y_pred))"
   ]
  },
  {
   "cell_type": "markdown",
   "id": "3e61f2a8-77a0-4733-a8a9-8d94aea4ca48",
   "metadata": {},
   "source": [
    "## decision tree\n"
   ]
  },
  {
   "cell_type": "code",
   "execution_count": 70,
   "id": "8fba54ad-604d-4d2f-9db8-97dd97efb826",
   "metadata": {},
   "outputs": [
    {
     "data": {
      "text/plain": [
       "DecisionTreeClassifier()"
      ]
     },
     "execution_count": 70,
     "metadata": {},
     "output_type": "execute_result"
    }
   ],
   "source": [
    "dsc = DecisionTreeClassifier()\n",
    "dsc.fit(X_train, y_train)"
   ]
  },
  {
   "cell_type": "code",
   "execution_count": 71,
   "id": "d305d849-77cd-4eef-bdae-3b731ca461b2",
   "metadata": {},
   "outputs": [
    {
     "name": "stdout",
     "output_type": "stream",
     "text": [
      "              precision    recall  f1-score   support\n",
      "\n",
      "        Lost       0.88      0.88      0.88       909\n",
      "         Won       0.90      0.90      0.90      1041\n",
      "\n",
      "    accuracy                           0.89      1950\n",
      "   macro avg       0.89      0.89      0.89      1950\n",
      "weighted avg       0.89      0.89      0.89      1950\n",
      "\n"
     ]
    }
   ],
   "source": [
    "y_pred = dsc.predict(X_test)\n",
    "print(classification_report(y_test, y_pred))\n"
   ]
  },
  {
   "cell_type": "markdown",
   "id": "e5ab4c6d-03e8-4d93-8545-72fc2ed2565f",
   "metadata": {},
   "source": [
    "## k Neighbors\n"
   ]
  },
  {
   "cell_type": "code",
   "execution_count": 72,
   "id": "f7f11b99-38e7-424b-8090-7bea011007f5",
   "metadata": {},
   "outputs": [
    {
     "name": "stdout",
     "output_type": "stream",
     "text": [
      "              precision    recall  f1-score   support\n",
      "\n",
      "        Lost       0.88      0.88      0.88       909\n",
      "         Won       0.90      0.90      0.90      1041\n",
      "\n",
      "    accuracy                           0.89      1950\n",
      "   macro avg       0.89      0.89      0.89      1950\n",
      "weighted avg       0.89      0.89      0.89      1950\n",
      "\n"
     ]
    }
   ],
   "source": [
    "knn = KNeighborsClassifier(n_neighbors=3)\n",
    "knn.fit(X_train,y_train)\n",
    "print(classification_report(y_test, y_pred))"
   ]
  },
  {
   "cell_type": "markdown",
   "id": "0dd51832-1a9a-4c2b-a456-e67e2919cae9",
   "metadata": {},
   "source": [
    "## Naive bayes"
   ]
  },
  {
   "cell_type": "code",
   "execution_count": 73,
   "id": "59df7414-80ee-48ca-8517-15d1b75b5b9f",
   "metadata": {},
   "outputs": [
    {
     "name": "stdout",
     "output_type": "stream",
     "text": [
      "              precision    recall  f1-score   support\n",
      "\n",
      "        Lost       0.46      0.39      0.42       909\n",
      "         Won       0.53      0.61      0.57      1041\n",
      "\n",
      "    accuracy                           0.51      1950\n",
      "   macro avg       0.50      0.50      0.50      1950\n",
      "weighted avg       0.50      0.51      0.50      1950\n",
      "\n"
     ]
    }
   ],
   "source": [
    "nbc = MultinomialNB()\n",
    "nbc.fit(X_train,y_train)\n",
    "y_pred = nbc.predict(X_test)\n",
    "print(classification_report(y_test, y_pred))"
   ]
  },
  {
   "cell_type": "code",
   "execution_count": 74,
   "id": "e41f0df4-b60b-414d-9fec-b48336ae3857",
   "metadata": {},
   "outputs": [
    {
     "name": "stdout",
     "output_type": "stream",
     "text": [
      "0.5061538461538462\n"
     ]
    }
   ],
   "source": [
    "print(accuracy_score(y_test,y_pred))"
   ]
  },
  {
   "cell_type": "code",
   "execution_count": 82,
   "id": "131e0659-8fa8-447e-adf4-5c69dcddc976",
   "metadata": {},
   "outputs": [
    {
     "data": {
      "text/plain": [
       "0.9061216054362493"
      ]
     },
     "execution_count": 82,
     "metadata": {},
     "output_type": "execute_result"
    }
   ],
   "source": [
    "from sklearn.metrics import precision_recall_fscore_support\n",
    "\n",
    "_ , _ , f1_score, _ = precision_recall_fscore_support(y_test, y_pred, average=\"macro\")\n",
    "f1_score"
   ]
  },
  {
   "cell_type": "code",
   "execution_count": 83,
   "id": "602b7395-ae68-4128-a291-17b4439babe6",
   "metadata": {},
   "outputs": [
    {
     "data": {
      "text/plain": [
       "array([[781, 128],\n",
       "       [ 53, 988]])"
      ]
     },
     "execution_count": 83,
     "metadata": {},
     "output_type": "execute_result"
    }
   ],
   "source": [
    "confusion_matrix(y_test, y_pred)"
   ]
  },
  {
   "cell_type": "code",
   "execution_count": 84,
   "id": "24d5ab81-df96-480d-a3f9-9e96ead9b612",
   "metadata": {},
   "outputs": [],
   "source": [
    "import pickle\n",
    "\n",
    "filename = 'model.sav'\n",
    "pickle.dump(model, open(filename, 'wb'))"
   ]
  },
  {
   "cell_type": "code",
   "execution_count": null,
   "id": "894ba3a1-aedf-41e3-9c68-fc3f43e21d29",
   "metadata": {},
   "outputs": [],
   "source": []
  },
  {
   "cell_type": "code",
   "execution_count": null,
   "id": "58fa92d5-f3ed-4e26-aba0-47a1c12944f6",
   "metadata": {},
   "outputs": [],
   "source": []
  }
 ],
 "metadata": {
  "kernelspec": {
   "display_name": "Python 3 (ipykernel)",
   "language": "python",
   "name": "python3"
  },
  "language_info": {
   "codemirror_mode": {
    "name": "ipython",
    "version": 3
   },
   "file_extension": ".py",
   "mimetype": "text/x-python",
   "name": "python",
   "nbconvert_exporter": "python",
   "pygments_lexer": "ipython3",
   "version": "3.8.5"
  }
 },
 "nbformat": 4,
 "nbformat_minor": 5
}
