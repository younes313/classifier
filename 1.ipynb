{
 "cells": [
  {
   "cell_type": "code",
   "execution_count": 19,
   "id": "d39a0d55",
   "metadata": {},
   "outputs": [],
   "source": [
    "import pandas as pd \n",
    "import numpy as np \n",
    "import matplotlib.pyplot as plt\n",
    "import seaborn as sns \n",
    "from sklearn.model_selection import train_test_split\n",
    "from sklearn.ensemble import RandomForestClassifier"
   ]
  },
  {
   "cell_type": "code",
   "execution_count": 20,
   "id": "df18351f",
   "metadata": {
    "tags": []
   },
   "outputs": [],
   "source": [
    "df = pd.read_excel('./dataset.xls')"
   ]
  },
  {
   "cell_type": "code",
   "execution_count": 21,
   "id": "b056b029",
   "metadata": {
    "tags": []
   },
   "outputs": [],
   "source": [
    "df.drop(['Unnamed: 0'], axis=1, inplace=True)"
   ]
  },
  {
   "cell_type": "code",
   "execution_count": 22,
   "id": "234228c8",
   "metadata": {
    "tags": []
   },
   "outputs": [
    {
     "data": {
      "text/plain": [
       "(7800, 9)"
      ]
     },
     "execution_count": 22,
     "metadata": {},
     "output_type": "execute_result"
    }
   ],
   "source": [
    "df.shape"
   ]
  },
  {
   "cell_type": "code",
   "execution_count": 23,
   "id": "b6d1789b",
   "metadata": {
    "tags": []
   },
   "outputs": [
    {
     "data": {
      "text/plain": [
       "Customer                0\n",
       "Agent                   0\n",
       "SalesAgentEmailID       0\n",
       "ContactEmailID          0\n",
       "Stage                   0\n",
       "Product                 0\n",
       "Close_Value          1208\n",
       "Created Date            0\n",
       "Close Date              0\n",
       "dtype: int64"
      ]
     },
     "execution_count": 23,
     "metadata": {},
     "output_type": "execute_result"
    }
   ],
   "source": [
    "df.isna().sum()"
   ]
  },
  {
   "cell_type": "code",
   "execution_count": 24,
   "id": "b97dac76",
   "metadata": {},
   "outputs": [
    {
     "data": {
      "text/plain": [
       "array(['GTX Plus Basic', 'MG Special', 'MG Advanced', 'GTX Basic',\n",
       "       'GTXPro', 'GTX Plus Pro', 'GTK 500'], dtype=object)"
      ]
     },
     "execution_count": 24,
     "metadata": {},
     "output_type": "execute_result"
    }
   ],
   "source": [
    "products = df.Product.unique()\n",
    "products"
   ]
  },
  {
   "cell_type": "code",
   "execution_count": 25,
   "id": "3578c30e",
   "metadata": {},
   "outputs": [
    {
     "data": {
      "text/plain": [
       "Customer             0\n",
       "Agent                0\n",
       "SalesAgentEmailID    0\n",
       "ContactEmailID       0\n",
       "Stage                0\n",
       "Product              0\n",
       "Close_Value          0\n",
       "Created Date         0\n",
       "Close Date           0\n",
       "dtype: int64"
      ]
     },
     "execution_count": 25,
     "metadata": {},
     "output_type": "execute_result"
    }
   ],
   "source": [
    "\n",
    "for product in products:\n",
    "    mean = df[df.Product == product].Close_Value.mean()\n",
    "    df.loc[df[(df.Product == product) & (df.Close_Value.isna())].index, \"Close_Value\"] = mean\n",
    "    \n",
    "df.isna().sum()"
   ]
  },
  {
   "cell_type": "markdown",
   "id": "6449fb31",
   "metadata": {},
   "source": [
    "### count in progress contracts:\n"
   ]
  },
  {
   "cell_type": "code",
   "execution_count": 26,
   "id": "14b9d7b6",
   "metadata": {},
   "outputs": [
    {
     "data": {
      "text/plain": [
       "Won            3738\n",
       "In Progress    2089\n",
       "Lost           1973\n",
       "Name: Stage, dtype: int64"
      ]
     },
     "execution_count": 26,
     "metadata": {},
     "output_type": "execute_result"
    }
   ],
   "source": [
    "df.Stage.value_counts()"
   ]
  },
  {
   "cell_type": "markdown",
   "id": "6a0c9094",
   "metadata": {},
   "source": [
    "### predict in progress:\n"
   ]
  },
  {
   "cell_type": "code",
   "execution_count": 114,
   "id": "6c59febb",
   "metadata": {},
   "outputs": [
    {
     "name": "stderr",
     "output_type": "stream",
     "text": [
      "/tmp/ipykernel_35318/2382442731.py:5: DeprecationWarning: parsing timezone aware datetimes is deprecated; this will raise an error in the future\n",
      "  new_df[\"Created Date\"] = new_df[\"Created Date\"].apply(lambda x: (x - np.datetime64('1970-01-01T00:00:00Z')) / np.timedelta64(1, 's'))\n",
      "/tmp/ipykernel_35318/2382442731.py:6: DeprecationWarning: parsing timezone aware datetimes is deprecated; this will raise an error in the future\n",
      "  new_df[\"Close Date\"] = new_df[\"Close Date\"].apply(lambda x: (x - np.datetime64('1970-01-01T00:00:00Z')) / np.timedelta64(1, 's'))\n"
     ]
    },
    {
     "data": {
      "text/plain": [
       "RandomForestClassifier()"
      ]
     },
     "execution_count": 114,
     "metadata": {},
     "output_type": "execute_result"
    }
   ],
   "source": [
    "new_df = df.copy()\n",
    "# new_df = new_df[df.Stage != \"In Progress\"]\n",
    "one_hot_products = pd.get_dummies(new_df.Product)\n",
    "\n",
    "new_df[\"Created Date\"] = new_df[\"Created Date\"].apply(lambda x: (x - np.datetime64('1970-01-01T00:00:00Z')) / np.timedelta64(1, 's'))\n",
    "new_df[\"Close Date\"] = new_df[\"Close Date\"].apply(lambda x: (x - np.datetime64('1970-01-01T00:00:00Z')) / np.timedelta64(1, 's'))\n",
    "new_df = new_df.join(one_hot_products)\n",
    "new_df.drop(\"Product\", axis=1, inplace=True)\n",
    "new_df.drop([\"Customer\", \"SalesAgentEmailID\", \"ContactEmailID\", \"Agent\"], axis=1, inplace=True)\n",
    "X_train, X_test, y_train, y_test = train_test_split(new_df.drop(\"Stage\", axis=1), new_df.Stage)\n",
    "model = RandomForestClassifier()\n",
    "model.fit(new_df[new_df['Stage']!='In Progress'].drop(\"Stage\", axis=1),new_df[new_df['Stage']!='In Progress'].Stage)"
   ]
  },
  {
   "cell_type": "code",
   "execution_count": 28,
   "id": "9cc0cca3",
   "metadata": {},
   "outputs": [
    {
     "data": {
      "text/plain": [
       "array(['Lost', 'Won', 'Won', ..., 'Lost', 'Lost', 'Lost'], dtype=object)"
      ]
     },
     "execution_count": 28,
     "metadata": {},
     "output_type": "execute_result"
    }
   ],
   "source": [
    "model.predict(new_df[new_df.Stage == \"In Progress\"].drop(\"Stage\", axis=1))"
   ]
  },
  {
   "cell_type": "code",
   "execution_count": 29,
   "id": "9bf621bd",
   "metadata": {},
   "outputs": [],
   "source": [
    "df.loc[df[df.Stage == \"In Progress\"].index, \"Stage\"] = model.predict(new_df[new_df.Stage == \"In Progress\"].drop(\"Stage\", axis=1))\n"
   ]
  },
  {
   "cell_type": "code",
   "execution_count": 30,
   "id": "d6301a1b",
   "metadata": {},
   "outputs": [
    {
     "data": {
      "text/plain": [
       "Won     4225\n",
       "Lost    3575\n",
       "Name: Stage, dtype: int64"
      ]
     },
     "execution_count": 30,
     "metadata": {},
     "output_type": "execute_result"
    }
   ],
   "source": [
    "df.Stage.value_counts()"
   ]
  },
  {
   "cell_type": "markdown",
   "id": "be22a339-ed1c-4bb9-b9aa-7056ef67b0e0",
   "metadata": {},
   "source": [
    "## customers:\n"
   ]
  },
  {
   "cell_type": "markdown",
   "id": "864d68b5-acae-4da1-956e-bbb050b1b9ae",
   "metadata": {},
   "source": [
    "### customers with most amount of money payed"
   ]
  },
  {
   "cell_type": "code",
   "execution_count": 59,
   "id": "3eb294fd",
   "metadata": {},
   "outputs": [
    {
     "data": {
      "text/plain": [
       "<AxesSubplot:ylabel='Customer'>"
      ]
     },
     "execution_count": 59,
     "metadata": {},
     "output_type": "execute_result"
    },
    {
     "data": {
      "image/png": "[encoded data removed]",
      "text/plain": [
       "<Figure size 432x288 with 1 Axes>"
      ]
     },
     "metadata": {
      "needs_background": "light"
     },
     "output_type": "display_data"
    }
   ],
   "source": [
    "df[df.Stage == \"Won\"].groupby('Customer').sum()[['Close_Value']].sort_values(by='Close_Value', ascending=False).head(10).Close_Value.plot.barh()"
   ]
  },
  {
   "cell_type": "markdown",
   "id": "a0a17994-a683-4170-b1ae-7c4b43afba9f",
   "metadata": {},
   "source": [
    "### add some columns"
   ]
  },
  {
   "cell_type": "code",
   "execution_count": 86,
   "id": "ffb9b6f0-d504-4564-89a4-9f123913d5db",
   "metadata": {},
   "outputs": [],
   "source": [
    "customers = df.Customer\n",
    "for customer in customers :\n",
    "    sub_df = df[df.Customer == customer]\n",
    "    df.loc[sub_df.index,'customer_won_rate'] = len(sub_df[sub_df.Stage == \"Won\"])/len(sub_df)\n",
    "    df.loc[sub_df.index,'customer_lost_rate'] = len(sub_df[sub_df.Stage == \"Lost\"])/len(sub_df)"
   ]
  },
  {
   "cell_type": "code",
   "execution_count": 87,
   "id": "59f94c1c-13a4-402e-acee-ac2d45c09dd8",
   "metadata": {},
   "outputs": [],
   "source": [
    "agents = df.Agent\n",
    "for agent in agents :\n",
    "    sub_df = df[df.Agent == agent]\n",
    "    df.loc[sub_df.index,'agent_won_rate'] = len(sub_df[sub_df.Stage == \"Won\"])/len(sub_df)\n",
    "    df.loc[sub_df.index,'agent_lost_rate'] = len(sub_df[sub_df.Stage == \"Lost\"])/len(sub_df)"
   ]
  },
  {
   "cell_type": "markdown",
   "id": "2b19a3bc-d178-4684-9efe-fa79211c7112",
   "metadata": {},
   "source": [
    "### customers with most rate of wins"
   ]
  },
  {
   "cell_type": "code",
   "execution_count": 99,
   "id": "e2fd1664-018f-44d9-bdbc-ac5d7d40ad6f",
   "metadata": {},
   "outputs": [
    {
     "data": {
      "text/plain": [
       "<AxesSubplot:ylabel='Customer'>"
      ]
     },
     "execution_count": 99,
     "metadata": {},
     "output_type": "execute_result"
    },
    {
     "data": {
      "image/png": "[encoded data removed]",
      "text/plain": [
       "<Figure size 432x288 with 1 Axes>"
      ]
     },
     "metadata": {
      "needs_background": "light"
     },
     "output_type": "display_data"
    }
   ],
   "source": [
    "df.drop_duplicates(subset=['Customer']).groupby('Customer').mean().sort_values(by='customer_won_rate', ascending=False).head(10).customer_won_rate.plot.barh()"
   ]
  },
  {
   "cell_type": "markdown",
   "id": "781681a8-20d1-4a09-8efe-d1962ab3d256",
   "metadata": {},
   "source": [
    "### customers with most rate of lost"
   ]
  },
  {
   "cell_type": "code",
   "execution_count": 100,
   "id": "149fee35-5d7e-4e60-8317-e8d0602efd7e",
   "metadata": {},
   "outputs": [
    {
     "data": {
      "text/plain": [
       "<AxesSubplot:ylabel='Customer'>"
      ]
     },
     "execution_count": 100,
     "metadata": {},
     "output_type": "execute_result"
    },
    {
     "data": {
      "image/png": "[encoded data removed]",
      "text/plain": [
       "<Figure size 432x288 with 1 Axes>"
      ]
     },
     "metadata": {
      "needs_background": "light"
     },
     "output_type": "display_data"
    }
   ],
   "source": [
    "df.drop_duplicates(subset=['Customer']).groupby('Customer').mean().sort_values(by='customer_lost_rate', ascending=False).head(10).customer_lost_rate.plot.barh()"
   ]
  },
  {
   "cell_type": "markdown",
   "id": "d90ded6d",
   "metadata": {},
   "source": [
    "### agents with most rate of won"
   ]
  },
  {
   "cell_type": "code",
   "execution_count": 101,
   "id": "84a1e928",
   "metadata": {},
   "outputs": [
    {
     "data": {
      "text/plain": [
       "<AxesSubplot:ylabel='Agent'>"
      ]
     },
     "execution_count": 101,
     "metadata": {},
     "output_type": "execute_result"
    },
    {
     "data": {
      "image/png": "[encoded data removed]",
      "text/plain": [
       "<Figure size 432x288 with 1 Axes>"
      ]
     },
     "metadata": {
      "needs_background": "light"
     },
     "output_type": "display_data"
    }
   ],
   "source": [
    "df.drop_duplicates(subset=['Agent']).groupby('Agent').mean().sort_values(by='agent_won_rate', ascending=False).head(10).agent_won_rate.plot.barh()"
   ]
  },
  {
   "cell_type": "markdown",
   "id": "4229d782-3ad3-4ee8-a585-4ec1e1597a16",
   "metadata": {},
   "source": [
    "### agents with most amount of lost"
   ]
  },
  {
   "cell_type": "code",
   "execution_count": 103,
   "id": "882c8742-427a-484e-9a3c-fbe1bb892792",
   "metadata": {},
   "outputs": [
    {
     "data": {
      "text/plain": [
       "<AxesSubplot:ylabel='Agent'>"
      ]
     },
     "execution_count": 103,
     "metadata": {},
     "output_type": "execute_result"
    },
    {
     "data": {
      "image/png": "[encoded data removed]",
      "text/plain": [
       "<Figure size 432x288 with 1 Axes>"
      ]
     },
     "metadata": {
      "needs_background": "light"
     },
     "output_type": "display_data"
    }
   ],
   "source": [
    "df.drop_duplicates(subset=['Agent']).groupby('Agent').mean().sort_values(by='agent_lost_rate', ascending=False).head(10).agent_lost_rate.plot.barh()"
   ]
  },
  {
   "cell_type": "markdown",
   "id": "776ed8d8-a334-4885-9b3e-617f90353a58",
   "metadata": {},
   "source": [
    "### product with most number of won\n"
   ]
  },
  {
   "cell_type": "code",
   "execution_count": 112,
   "id": "8d06e2cf-c733-4d79-aebf-a5c0c4c22591",
   "metadata": {},
   "outputs": [
    {
     "data": {
      "text/plain": [
       "<AxesSubplot:>"
      ]
     },
     "execution_count": 112,
     "metadata": {},
     "output_type": "execute_result"
    },
    {
     "data": {
      "image/png": "[encoded data removed]",
      "text/plain": [
       "<Figure size 432x288 with 1 Axes>"
      ]
     },
     "metadata": {
      "needs_background": "light"
     },
     "output_type": "display_data"
    }
   ],
   "source": [
    "df[df.Stage == \"Won\"].Product.value_counts().plot.barh()"
   ]
  },
  {
   "cell_type": "markdown",
   "id": "44cdca06-45ce-424b-b76e-b5cb0aa772e2",
   "metadata": {},
   "source": [
    "### product with most number of lost\n"
   ]
  },
  {
   "cell_type": "code",
   "execution_count": 113,
   "id": "32446e83-db15-4588-8b0f-9927b4ffadaa",
   "metadata": {},
   "outputs": [
    {
     "data": {
      "text/plain": [
       "<AxesSubplot:>"
      ]
     },
     "execution_count": 113,
     "metadata": {},
     "output_type": "execute_result"
    },
    {
     "data": {
      "image/png": "[encoded data removed]",
      "text/plain": [
       "<Figure size 432x288 with 1 Axes>"
      ]
     },
     "metadata": {
      "needs_background": "light"
     },
     "output_type": "display_data"
    }
   ],
   "source": [
    "df[df.Stage == \"Lost\"].Product.value_counts().plot.barh()"
   ]
  }
 ],
 "metadata": {
  "kernelspec": {
   "display_name": "Python 3 (ipykernel)",
   "language": "python",
   "name": "python3"
  },
  "language_info": {
   "codemirror_mode": {
    "name": "ipython",
    "version": 3
   },
   "file_extension": ".py",
   "mimetype": "text/x-python",
   "name": "python",
   "nbconvert_exporter": "python",
   "pygments_lexer": "ipython3",
   "version": "3.8.5"
  }
 },
 "nbformat": 4,
 "nbformat_minor": 5
}
